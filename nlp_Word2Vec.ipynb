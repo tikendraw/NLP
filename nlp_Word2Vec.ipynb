{
  "nbformat": 4,
  "nbformat_minor": 0,
  "metadata": {
    "colab": {
      "name": "nlp_Word2Vec.ipynb",
      "provenance": [],
      "collapsed_sections": [],
      "authorship_tag": "ABX9TyMZE/pXuNf1p4kSG72Y0cyD",
      "include_colab_link": true
    },
    "kernelspec": {
      "name": "python3",
      "display_name": "Python 3"
    },
    "language_info": {
      "name": "python"
    }
  },
  "cells": [
    {
      "cell_type": "markdown",
      "metadata": {
        "id": "view-in-github",
        "colab_type": "text"
      },
      "source": [
        "<a href=\"https://colab.research.google.com/github/tikendraw/NLP/blob/main/nlp_Word2Vec.ipynb\" target=\"_parent\"><img src=\"https://colab.research.google.com/assets/colab-badge.svg\" alt=\"Open In Colab\"/></a>"
      ]
    },
    {
      "cell_type": "code",
      "source": [
        "import nltk\n",
        "from nltk.corpus import stopwords\n",
        "nltk.download('stopwords')\n",
        "nltk.download('wordnet')\n",
        "nltk.download('punkt')\n",
        "nltk.download('averaged_perceptron_tagger') \n",
        "import regex as re\n",
        "!pip install gensim\n",
        "from gensim.models import Word2Vec"
      ],
      "metadata": {
        "id": "DvyqUBDmdtnS"
      },
      "execution_count": 40,
      "outputs": []
    },
    {
      "cell_type": "code",
      "execution_count": 2,
      "metadata": {
        "id": "8ugElrxHc_qN"
      },
      "outputs": [],
      "source": [
        "story = '''My name is Commander Jane Lance and I was not on Mars. The night before my three-year flight to Mars, I went to a musical concert. There was a pianist, Nikola Eaves, who played Rachmaninoff and as he played he kept moving his mouth and body in\n",
        " synchronicity with the notes so that if you stared at him too long and listened \n",
        " to the music too closely you would be swept into a trance so consuming that you \n",
        " could be transported to anywhere you desired. After the concert, I drank four glasses of wine – the last wine I would taste for years. Eaves transported me to the sad moon base that mined aluminum, magnesium, titanium, and iron. I spent one year there in a small building working on technology for a Mars Initiative. I had been a Navy pilot before joining NASA. I had a Ph.D. in Biophysics and a Masters in Aerospace Engineering. I was considering medical school when NASA plucked me from MIT to work on the international project to Mars. It would be ten years before we would be flight-ready so they sent me to medical/surgery classes and in between, I worked on engineering. I was celebrated and applauded as being a woman who would command a flight to Mars. But it was not my gender that I was selected; it was my dedication to learning, talent, and commitment that earned me the title of Commander. \n",
        "\n",
        "And now, after three long years of flight from home with an intelligent crew, \n",
        "I was not on Mars. I had thought Comms went down 1 hour before the scheduled landing.\n",
        " There was no communication with Mission Control and the crew, who all sent video messages\n",
        "  or emails to family or loved ones, had no response back. Depending on the amount of data \n",
        "  being sent, it could take 4 to 22 minutes to receive a response from Earth. We heard nothing. \n",
        "  Mars could be seen glowing through the windows. We went through the checklist for landing. \n",
        "  The ship began to shake and then Mars disappeared, but we all detected a thud when we landed.\n",
        "   I was the first out. I stepped onto land with gravity stronger than that of Mars. \n",
        "   There was lush vegetation everywhere. Before us was a pod of some sort of metal alloy. \n",
        "   It opened, slowly, and slick, wet being emerged. It had scales and a tail and was half my height.\n",
        "    The being coughed and then uttered some alien screech. Other beings, in a multitude of colors, \n",
        "    emerged from the trees. A purple one tapped the air before it and a screen emerged. Some alien scrawl scrolled down until I saw English. \n",
        "\n",
        "“Greetings, Earth people made of water. This is our home and it is now your home. Welcome. You went through a small tear in the fabric of space and traveled millions of light-years. You must be hungry. We made food for you and drink.” The being sounded like a stroke victim. \n",
        "\n",
        "A pink being stepped forward. On one hand, was a pizza and the other hand was a bottle of vodka. “This is for the American and this is for the Russian.” And then the being spoke in Russian. I was frozen and my crew laid their hands on me in amazement and fear. No. I was not on Mars and Earth was now a dream like Mars had been a dream for me at the age of five. '''"
      ]
    },
    {
      "cell_type": "markdown",
      "source": [
        "# Clean the data"
      ],
      "metadata": {
        "id": "FU7xM1LneT1V"
      }
    },
    {
      "cell_type": "code",
      "source": [
        "story"
      ],
      "metadata": {
        "colab": {
          "base_uri": "https://localhost:8080/",
          "height": 105
        },
        "id": "bsE3rMPjkz7b",
        "outputId": "517af89e-395a-4398-e546-c4f4a2aea1da"
      },
      "execution_count": 72,
      "outputs": [
        {
          "output_type": "execute_result",
          "data": {
            "application/vnd.google.colaboratory.intrinsic+json": {
              "type": "string"
            },
            "text/plain": [
              "'My name is Commander Jane Lance and I was not on Mars. The night before my three-year flight to Mars, I went to a musical concert. There was a pianist, Nikola Eaves, who played Rachmaninoff and as he played he kept moving his mouth and body in\\n synchronicity with the notes so that if you stared at him too long and listened \\n to the music too closely you would be swept into a trance so consuming that you \\n could be transported to anywhere you desired. After the concert, I drank four glasses of wine – the last wine I would taste for years. Eaves transported me to the sad moon base that mined aluminum, magnesium, titanium, and iron. I spent one year there in a small building working on technology for a Mars Initiative. I had been a Navy pilot before joining NASA. I had a Ph.D. in Biophysics and a Masters in Aerospace Engineering. I was considering medical school when NASA plucked me from MIT to work on the international project to Mars. It would be ten years before we would be flight-ready so they sent me to medical/surgery classes and in between, I worked on engineering. I was celebrated and applauded as being a woman who would command a flight to Mars. But it was not my gender that I was selected; it was my dedication to learning, talent, and commitment that earned me the title of Commander. \\n\\nAnd now, after three long years of flight from home with an intelligent crew, \\nI was not on Mars. I had thought Comms went down 1 hour before the scheduled landing.\\n There was no communication with Mission Control and the crew, who all sent video messages\\n  or emails to family or loved ones, had no response back. Depending on the amount of data \\n  being sent, it could take 4 to 22 minutes to receive a response from Earth. We heard nothing. \\n  Mars could be seen glowing through the windows. We went through the checklist for landing. \\n  The ship began to shake and then Mars disappeared, but we all detected a thud when we landed.\\n   I was the first out. I stepped onto land with gravity stronger than that of Mars. \\n   There was lush vegetation everywhere. Before us was a pod of some sort of metal alloy. \\n   It opened, slowly, and slick, wet being emerged. It had scales and a tail and was half my height.\\n    The being coughed and then uttered some alien screech. Other beings, in a multitude of colors, \\n    emerged from the trees. A purple one tapped the air before it and a screen emerged. Some alien scrawl scrolled down until I saw English. \\n\\n“Greetings, Earth people made of water. This is our home and it is now your home. Welcome. You went through a small tear in the fabric of space and traveled millions of light-years. You must be hungry. We made food for you and drink.” The being sounded like a stroke victim. \\n\\nA pink being stepped forward. On one hand, was a pizza and the other hand was a bottle of vodka. “This is for the American and this is for the Russian.” And then the being spoke in Russian. I was frozen and my crew laid their hands on me in amazement and fear. No. I was not on Mars and Earth was now a dream like Mars had been a dream for me at the age of five. '"
            ]
          },
          "metadata": {},
          "execution_count": 72
        }
      ]
    },
    {
      "cell_type": "code",
      "source": [
        "storyy = story.lower()\n",
        "storyy = nltk.sent_tokenize(storyy)\n",
        "storyy = [re.sub('[^a-zA-Z]',' ', line) for line in storyy]\n",
        "storyy = [nltk.word_tokenize(line) for line in storyy]\n",
        "stopwordss = stopwords.words('english')\n",
        "type(stopwordss)\n",
        "storyy = [list(set(line) - set(stopwordss)) for line in storyy]"
      ],
      "metadata": {
        "id": "-IIOmcZhet5v"
      },
      "execution_count": 67,
      "outputs": []
    },
    {
      "cell_type": "code",
      "source": [
        "storyy[:2]"
      ],
      "metadata": {
        "colab": {
          "base_uri": "https://localhost:8080/"
        },
        "id": "QFzlcfOfkEqX",
        "outputId": "e433459b-388f-4a7f-b300-94cf73ede1a7"
      },
      "execution_count": 70,
      "outputs": [
        {
          "output_type": "execute_result",
          "data": {
            "text/plain": [
              "[['jane', 'commander', 'mars', 'lance', 'name'],\n",
              " ['flight', 'concert', 'year', 'mars', 'three', 'went', 'musical', 'night']]"
            ]
          },
          "metadata": {},
          "execution_count": 70
        }
      ]
    },
    {
      "cell_type": "code",
      "source": [
        "model = Word2Vec(storyy,min_count=1)"
      ],
      "metadata": {
        "id": "-h-9IlgAk3nI"
      },
      "execution_count": 73,
      "outputs": []
    },
    {
      "cell_type": "code",
      "source": [
        "word = model.wv.similar_by_word('mars')"
      ],
      "metadata": {
        "id": "TI7HhFyRlWsn"
      },
      "execution_count": 74,
      "outputs": []
    },
    {
      "cell_type": "code",
      "source": [
        "word"
      ],
      "metadata": {
        "colab": {
          "base_uri": "https://localhost:8080/"
        },
        "id": "zQDuBYkSlm4H",
        "outputId": "5c642e60-0ec9-4ac7-980c-37f5e55320f8"
      },
      "execution_count": 75,
      "outputs": [
        {
          "output_type": "execute_result",
          "data": {
            "text/plain": [
              "[('trance', 0.2918843924999237),\n",
              " ('frozen', 0.25474438071250916),\n",
              " ('kept', 0.22896254062652588),\n",
              " ('uttered', 0.22425541281700134),\n",
              " ('communication', 0.20049384236335754),\n",
              " ('applauded', 0.17776283621788025),\n",
              " ('three', 0.17454904317855835),\n",
              " ('consuming', 0.1602276861667633),\n",
              " ('sad', 0.15395018458366394),\n",
              " ('russian', 0.153319850564003)]"
            ]
          },
          "metadata": {},
          "execution_count": 75
        }
      ]
    },
    {
      "cell_type": "code",
      "source": [
        "model.wv['lance']"
      ],
      "metadata": {
        "colab": {
          "base_uri": "https://localhost:8080/"
        },
        "id": "xPoPuV4vloax",
        "outputId": "77297fc1-3564-4437-b648-1c3ff50d158a"
      },
      "execution_count": 76,
      "outputs": [
        {
          "output_type": "execute_result",
          "data": {
            "text/plain": [
              "array([-5.0008907e-03,  3.7657644e-03,  2.9372391e-03, -3.2148736e-03,\n",
              "       -4.1088974e-03,  2.1510266e-03, -1.2727400e-03,  2.8162168e-03,\n",
              "        4.3043122e-03,  4.7167642e-03, -1.4230820e-04,  2.3686152e-03,\n",
              "       -2.2275760e-04,  8.3823426e-04, -3.3010971e-03,  3.9979513e-03,\n",
              "       -3.3271795e-03,  1.5689598e-03, -5.7921006e-04,  5.8992673e-04,\n",
              "       -2.2000745e-03,  3.5222806e-04,  1.6500319e-03, -8.5646933e-04,\n",
              "       -2.0338069e-03, -4.1892339e-04, -3.9555789e-03,  3.0776856e-03,\n",
              "        4.6505858e-03, -1.4329514e-03, -4.9282708e-03,  3.2711623e-03,\n",
              "       -3.1015603e-03,  3.5232319e-03, -5.7889568e-04,  4.2797187e-03,\n",
              "       -1.3006650e-03, -2.9375805e-03, -5.2956934e-04,  4.1116625e-03,\n",
              "       -1.6459852e-03, -3.2410373e-03,  3.7725412e-03, -3.2143993e-03,\n",
              "       -4.6868073e-03,  2.9409039e-03, -1.3227214e-03,  3.0832340e-03,\n",
              "        4.8833294e-03,  3.0410837e-03, -3.2997194e-03, -2.0745229e-03,\n",
              "        3.1649964e-03, -6.5713795e-04, -5.8856350e-04, -3.8137748e-03,\n",
              "       -2.7715904e-03,  4.0532346e-03, -3.5649755e-03, -4.3443954e-03,\n",
              "       -9.9102917e-06,  4.1989232e-03, -7.8096392e-04,  3.4290343e-04,\n",
              "        2.0682188e-03, -2.8531082e-04,  6.7853945e-04, -1.9639444e-03,\n",
              "        4.3383762e-04, -2.1052833e-03, -1.2801060e-03, -2.0867949e-03,\n",
              "        2.4476669e-05, -7.1116890e-05,  3.3194756e-03, -1.5236491e-05,\n",
              "        2.4606464e-03,  2.0938376e-03, -6.3333940e-04, -9.0546906e-04,\n",
              "       -6.3473405e-04,  5.9211842e-04, -3.2424242e-03,  2.3431648e-03,\n",
              "        9.3076745e-04, -1.6394209e-03, -3.9495979e-03, -7.7327981e-04,\n",
              "        1.6564609e-03,  1.8880322e-03,  2.8130899e-03, -2.3902357e-03,\n",
              "       -3.4259984e-03,  2.6283192e-04, -3.0927297e-03,  3.8969337e-03,\n",
              "       -1.6509582e-03, -1.4787937e-03, -3.6561482e-03, -1.9619344e-03],\n",
              "      dtype=float32)"
            ]
          },
          "metadata": {},
          "execution_count": 76
        }
      ]
    },
    {
      "cell_type": "code",
      "source": [
        ""
      ],
      "metadata": {
        "id": "06PCEu-0lx6h"
      },
      "execution_count": null,
      "outputs": []
    }
  ]
}